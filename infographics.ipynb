{
 "cells": [
  {
   "cell_type": "code",
   "execution_count": null,
   "metadata": {},
   "outputs": [],
   "source": [
    "import pandas as pd\n",
    "import matplotlib.pyplot as plt\n",
    "import seaborn as sns"
   ]
  },
  {
   "cell_type": "markdown",
   "metadata": {},
   "source": [
    "## Data Loading..."
   ]
  },
  {
   "cell_type": "code",
   "execution_count": null,
   "metadata": {},
   "outputs": [],
   "source": [
    "df_land = pd.read_csv('data/land_areas_of_sri_lanka.csv')\n",
    "df_ppl = pd.read_csv('data/population_2012_2.csv')\n",
    "df_ltrc_15_24 = pd.read_csv('data/literacy_rate_by_age_group_15__24__0.csv')\n",
    "df_ltrc_15_abv = pd.read_csv('data/literacy_rate_by_age_15_&_above.csv', names=['Province', 'District', 'TotalLit15Abv'])\n",
    "\n",
    "# df_land.head()\n",
    "# df_ppl.head()\n",
    "# df_ltrc_15_24.head()\n",
    "# print(df_ltrc_15_abv.head())\n",
    "\n",
    "print(df_ppl.columns)\n",
    "print(df_ltrc_15_24.columns)\n",
    "print(df_ltrc_15_abv.columns)"
   ]
  },
  {
   "cell_type": "markdown",
   "metadata": {},
   "source": [
    "# Data cleaning..."
   ]
  },
  {
   "cell_type": "markdown",
   "metadata": {},
   "source": [
    "### Cleaning land data"
   ]
  },
  {
   "cell_type": "code",
   "execution_count": null,
   "metadata": {},
   "outputs": [],
   "source": [
    "# Cleaning land data\n",
    "df_land = df_land.rename(columns={' / District': 'District','Total ': 'Total Area','Land ': 'Land',' Inland waters': 'Inland waters',})\n",
    "df_land = df_land.dropna()\n",
    "df_land = df_land.drop('Unnamed: 4', axis=1)\n",
    "\n",
    "columns_to_clean = ['Total Area', 'Land', 'Inland waters']\n",
    "for col in columns_to_clean:\n",
    "    df_land[col] = pd.to_numeric(df_land[col])\n",
    "\n",
    "df_land = df_land[(df_land['District'] != 'Sri Lanka') & (~df_land['District'].str.contains('Province'))]\n",
    "\n",
    "df_land.sort_values(by='District', inplace=True)\n",
    "\n",
    "print(df_land.columns)\n",
    "print(df_land.head())"
   ]
  },
  {
   "cell_type": "markdown",
   "metadata": {},
   "source": [
    "### Cleaning population data"
   ]
  },
  {
   "cell_type": "code",
   "execution_count": null,
   "metadata": {},
   "outputs": [],
   "source": [
    "# Cleaning population data\n",
    "df_ppl = df_ppl.rename(columns={'District\\n': 'District','\\nTotal number of persons ': 'Total Person','\\nMale': 'Male','\\n\\nFemale ': 'Female','\\nLess than 15 years': 'Less than 15 years','\\n15 - 59 Years': '15 - 59 Years','\\n60 years and over': '60 years and over',})\n",
    "df_ppl = df_ppl.dropna()\n",
    "\n",
    "columns_to_clean = ['Total Person', 'Male', 'Female', 'Less than 15 years','15 - 59 Years', '60 years and over']\n",
    "for col in columns_to_clean:\n",
    "    df_ppl[col] = pd.to_numeric(df_ppl[col])\n",
    "\n",
    "df_ppl = df_ppl[(df_ppl['District'] != 'Sri Lanka') & (~df_ppl['District'].str.contains('Province'))]\n",
    "\n",
    "df_ppl.sort_values(by='District', inplace=True)\n",
    "\n",
    "print(df_ppl.columns)\n",
    "print(df_ppl.head())"
   ]
  },
  {
   "cell_type": "markdown",
   "metadata": {},
   "source": [
    "### Cleaning literacy data - 15_24"
   ]
  },
  {
   "cell_type": "code",
   "execution_count": null,
   "metadata": {},
   "outputs": [],
   "source": [
    "\n",
    "# Cleaning literacy data\n",
    "df_ltrc_15_24 = df_ltrc_15_24.rename(columns={'Total': 'TotalLit_15_24','Male': 'MaleLit_15_24','Female': 'FemaleLit_15_24',})\n",
    "\n",
    "df_ltrc_15_24 = df_ltrc_15_24.dropna()\n",
    "\n",
    "columns_to_clean = ['TotalLit_15_24', 'MaleLit_15_24', 'FemaleLit_15_24']\n",
    "for col in columns_to_clean:\n",
    "    df_ltrc_15_24[col] = pd.to_numeric(df_ltrc_15_24[col])\n",
    "\n",
    "# df_ltrc_15_24 = df_ltrc_15_24[(df_ltrc_15_24['District'] != 'Sri Lanka') & (~df_ltrc_15_24['District'].str.contains('Province'))]\n",
    "df_ltrc_15_24['District'] = df_ltrc_15_24['District'].str.replace('Aqnuradhapura', 'Anuradhapura').str.replace('Monaragala', 'Moneragala').str.replace('Mullativu', 'Mullaitivu').str.replace('Vavunia', 'Vavuniya')\n",
    "\n",
    "df_ltrc_15_24.sort_values(by='District', inplace=True)\n",
    "df_ltrc_15_24 = df_ltrc_15_24.drop('Area', axis=1)\n",
    "\n",
    "print(df_ltrc_15_24.columns)\n",
    "print(df_ltrc_15_24.head())"
   ]
  },
  {
   "cell_type": "markdown",
   "metadata": {},
   "source": [
    "### Cleaning literacy data - 15_abv"
   ]
  },
  {
   "cell_type": "code",
   "execution_count": null,
   "metadata": {},
   "outputs": [],
   "source": [
    "df_ltrc_15_abv = df_ltrc_15_abv.drop('Province', axis=1)\n",
    "df_ltrc_15_abv = df_ltrc_15_abv.dropna()\n",
    "\n",
    "df_ltrc_15_abv['TotalLit15Abv'] = pd.to_numeric(df_ltrc_15_abv['TotalLit15Abv'])\n",
    "\n",
    "df_ltrc_15_abv = df_ltrc_15_abv[(df_ltrc_15_abv['District'] != 'Total')]\n",
    "\n",
    "df_ltrc_15_abv['District'] = df_ltrc_15_abv['District'].str.replace('Monaragala', 'Moneragala').str.replace('Mullativu', 'Mullaitivu').str.replace('Vavunia', 'Vavuniya')\n",
    "\n",
    "df_ltrc_15_abv.sort_values(by='District', inplace=True)\n",
    "\n",
    "print(df_ltrc_15_abv.columns)\n",
    "print(df_ltrc_15_abv.head())"
   ]
  },
  {
   "cell_type": "markdown",
   "metadata": {},
   "source": [
    "## Data Visualization..."
   ]
  },
  {
   "cell_type": "markdown",
   "metadata": {},
   "source": [
    "### Stacked bar chart for Land and Inland Waters by District"
   ]
  },
  {
   "cell_type": "code",
   "execution_count": null,
   "metadata": {},
   "outputs": [],
   "source": [
    "# Create a stacked bar chart for Land and Inland Waters by District\n",
    "fig, ax = plt.subplots()\n",
    "\n",
    "# Plotting the 'Land' area\n",
    "ax.bar(df_land['District'], df_land['Land'], label='Land')\n",
    "\n",
    "# Stacking the 'Inland waters' on top of 'Land' area\n",
    "ax.bar(df_land['District'], df_land['Inland waters'], bottom=df_land['Land'], label='Inland waters')\n",
    "\n",
    "# Adding labels and title\n",
    "ax.set_xlabel('District')\n",
    "ax.set_ylabel('Area')\n",
    "ax.set_title('Land and Inland Waters by District')\n",
    "ax.legend()\n",
    "\n",
    "# Display the plot\n",
    "plt.xticks(rotation=90)  # Rotate x-axis labels to avoid overlapping\n",
    "plt.tight_layout()  # Adjust layout to fit all labels\n",
    "plt.show()"
   ]
  },
  {
   "cell_type": "markdown",
   "metadata": {},
   "source": [
    "### Pie chart for Total Land by District"
   ]
  },
  {
   "cell_type": "code",
   "execution_count": null,
   "metadata": {},
   "outputs": [],
   "source": [
    "pie_labels = df_land['District']\n",
    "pie_values = df_land['Total Area']\n",
    "\n",
    "# Plot\n",
    "plt.figure(figsize=(10, 8))\n",
    "plt.pie(pie_values, labels=pie_labels, autopct='%1.1f%%', startangle=140)\n",
    "plt.title('District vs Total Area')\n",
    "plt.axis('equal')  # Equal aspect ratio ensures that pie chart is circular.\n",
    "\n",
    "# Display or save\n",
    "plt.show()  # To display the pie chart"
   ]
  },
  {
   "cell_type": "markdown",
   "metadata": {},
   "source": [
    "### Stacked bar chart for Male and Female count by District"
   ]
  },
  {
   "cell_type": "code",
   "execution_count": null,
   "metadata": {},
   "outputs": [],
   "source": [
    "\n",
    "# Create a stacked bar chart for Male and Female count by District\n",
    "fig, ax = plt.subplots()\n",
    "\n",
    "# Plotting the 'Land' area\n",
    "ax.bar(df_ppl['District'], df_ppl['Male'], label='Male')\n",
    "\n",
    "# Stacking the 'Inland waters' on top of 'Land' area\n",
    "ax.bar(df_ppl['District'], df_ppl['Female'], bottom=df_ppl['Male'], label='Female')\n",
    "\n",
    "# Adding labels and title\n",
    "ax.set_xlabel('District')\n",
    "ax.set_ylabel('Male and Female count')\n",
    "ax.set_title('Male and Female count by District')\n",
    "ax.legend()\n",
    "\n",
    "# Display the plot\n",
    "plt.xticks(rotation=90)  # Rotate x-axis labels to avoid overlapping\n",
    "plt.tight_layout()  # Adjust layout to fit all labels\n",
    "plt.show()\n"
   ]
  },
  {
   "cell_type": "markdown",
   "metadata": {},
   "source": [
    "### Stacked bar chart for Male and Female literacy percentage by District"
   ]
  },
  {
   "cell_type": "code",
   "execution_count": null,
   "metadata": {},
   "outputs": [],
   "source": [
    "# Create a stacked bar chart for Male and Female literacy percentage by District\n",
    "fig, ax = plt.subplots()\n",
    "\n",
    "# Plotting the 'Land' area\n",
    "ax.bar(df_ltrc_15_24['District'], df_ltrc_15_24['MaleLit_15_24'], label='MaleLit_15_24')\n",
    "\n",
    "# Stacking the 'Inland waters' on top of 'Land' area\n",
    "ax.bar(df_ltrc_15_24['District'], df_ltrc_15_24['FemaleLit_15_24'], bottom=df_ltrc_15_24['MaleLit_15_24'], label='FemaleLit_15_24')\n",
    "\n",
    "# Adding labels and title\n",
    "ax.set_xlabel('District')\n",
    "ax.set_ylabel('Male and Female literacy percentage')\n",
    "ax.set_title('Male and Female literacy percentage by District')\n",
    "ax.legend()\n",
    "\n",
    "# Display the plot\n",
    "plt.xticks(rotation=90)  # Rotate x-axis labels to avoid overlapping\n",
    "plt.tight_layout()  # Adjust layout to fit all labels\n",
    "plt.show()"
   ]
  },
  {
   "cell_type": "markdown",
   "metadata": {},
   "source": [
    "## Combining datasets..."
   ]
  },
  {
   "cell_type": "code",
   "execution_count": null,
   "metadata": {},
   "outputs": [],
   "source": [
    "combined_df = pd.merge(df_land, df_ppl, on='District', how='outer')\n",
    "combined_df = pd.merge(combined_df, df_ltrc_15_24, on='District', how='outer')\n",
    "combined_df = pd.merge(combined_df, df_ltrc_15_abv, on='District', how='outer')\n",
    "combined_df['Population density'] = (combined_df['Total Person'] / combined_df['Total Area']).round(2)\n",
    "print(combined_df.head())\n",
    "print(combined_df.columns)"
   ]
  },
  {
   "cell_type": "markdown",
   "metadata": {},
   "source": [
    "### Visualizing Dictrict wise Total Person, Total Area and Population Density"
   ]
  },
  {
   "cell_type": "code",
   "execution_count": null,
   "metadata": {},
   "outputs": [],
   "source": [
    "sns.set_style(\"whitegrid\")\n",
    "\n",
    "# Prepare data for various plots\n",
    "# Population Distribution by District\n",
    "population_dist = combined_df[['District', 'Total Person']].sort_values('Total Person', ascending=False)\n",
    "\n",
    "# Literacy Rates by District\n",
    "total_area = combined_df[['District', 'Total Area']].sort_values('Total Area', ascending=False)\n",
    "\n",
    "# Population Density\n",
    "population_density = combined_df[['District', 'Population density']].sort_values('Population density', ascending=False)\n",
    "\n",
    "# Plotting\n",
    "fig, ax = plt.subplots(3, 1, figsize=(10, 15))\n",
    "\n",
    "# Population Distribution by District\n",
    "sns.barplot(x='Total Person', y='District', data=population_dist, ax=ax[0], palette='coolwarm')\n",
    "ax[0].set_title('Population Distribution by District')\n",
    "ax[0].set_xlabel('Total Population')\n",
    "ax[0].set_ylabel('District')\n",
    "\n",
    "# Total Area by District\n",
    "total_area_melted = total_area.melt(id_vars=[\"District\"], var_name=\"Category\", value_name=\"Total Area\")\n",
    "sns.barplot(x='Total Area', y='District', hue='Category', data=total_area_melted, ax=ax[1], palette='viridis')\n",
    "ax[1].set_title('Total Area by District')\n",
    "ax[1].set_xlabel('Total Area')\n",
    "ax[1].set_ylabel('District')\n",
    "\n",
    "# Population Density\n",
    "sns.barplot(x='Population density', y='District', data=population_density, ax=ax[2], palette='magma')\n",
    "ax[2].set_title('Population Density by District')\n",
    "ax[2].set_xlabel('Population Density (per sq. km)')\n",
    "ax[2].set_ylabel('District')\n",
    "\n",
    "plt.tight_layout()\n",
    "plt.show()"
   ]
  },
  {
   "cell_type": "markdown",
   "metadata": {},
   "source": [
    "### Visualizing Population Density vs Total Literacy Rate"
   ]
  },
  {
   "cell_type": "code",
   "execution_count": null,
   "metadata": {},
   "outputs": [],
   "source": [
    "plt.figure(figsize=(10, 6))\n",
    "sns.regplot(x='Population density', y='TotalLit15Abv', data=combined_df, color='green', marker='o', scatter_kws={'s':50})\n",
    "plt.title('Population Density vs Total Literacy Rate')\n",
    "plt.xlabel('Population Density (per sq. km)')\n",
    "plt.ylabel('Total Literacy Rate (%)')\n",
    "plt.grid(True)\n",
    "plt.show()"
   ]
  },
  {
   "cell_type": "code",
   "execution_count": null,
   "metadata": {},
   "outputs": [],
   "source": [
    "plt.figure(figsize=(10, 6))\n",
    "sns.regplot(x='Total Person', y='TotalLit15Abv', data=combined_df, color='blue', marker='o', scatter_kws={'s':50})\n",
    "plt.title('Total Population vs Total Literacy Rate')\n",
    "plt.xlabel('Total Population')\n",
    "plt.ylabel('Total Literacy Rate (%)')\n",
    "plt.grid(True)\n",
    "plt.show()"
   ]
  },
  {
   "cell_type": "code",
   "execution_count": null,
   "metadata": {},
   "outputs": [],
   "source": [
    "plt.figure(figsize=(10, 6))\n",
    "sns.regplot(x='Total Area', y='TotalLit15Abv', data=combined_df, color='red', marker='o', scatter_kws={'s':50})\n",
    "plt.title('Total Area vs Total Literacy Rate')\n",
    "plt.xlabel('Total Area')\n",
    "plt.ylabel('Total Literacy Rate (%)')\n",
    "plt.grid(True)\n",
    "plt.show()"
   ]
  },
  {
   "cell_type": "markdown",
   "metadata": {},
   "source": [
    "## Exporting CSVs..."
   ]
  },
  {
   "cell_type": "code",
   "execution_count": null,
   "metadata": {},
   "outputs": [],
   "source": [
    "df_land.to_csv('data/cleaned/land_areas_of_sri_lanka_cleaned.csv', index=False)\n",
    "df_ppl.to_csv('data/cleaned/population_2012_2_cleaned.csv', index=False)\n",
    "df_ltrc_15_24.to_csv('data/cleaned/literacy_rate_by_age_group_15__24__0.csv', index=False)\n",
    "df_ltrc_15_abv.to_csv('data/cleaned/literacy_rate_by_age_15_&_above.csv', index=False)\n",
    "combined_df.to_csv('data/cleaned/combined.csv', index=False)\n"
   ]
  },
  {
   "cell_type": "markdown",
   "metadata": {},
   "source": [
    "Population Data Set"
   ]
  }
 ],
 "metadata": {
  "kernelspec": {
   "display_name": "Python 3",
   "language": "python",
   "name": "python3"
  },
  "language_info": {
   "codemirror_mode": {
    "name": "ipython",
    "version": 3
   },
   "file_extension": ".py",
   "mimetype": "text/x-python",
   "name": "python",
   "nbconvert_exporter": "python",
   "pygments_lexer": "ipython3",
   "version": "3.12.2"
  }
 },
 "nbformat": 4,
 "nbformat_minor": 2
}
